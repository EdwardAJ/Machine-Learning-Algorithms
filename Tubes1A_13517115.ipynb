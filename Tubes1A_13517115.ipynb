{
 "cells": [
  {
   "cell_type": "code",
   "execution_count": 1,
   "metadata": {},
   "outputs": [
    {
     "name": "stderr",
     "output_type": "stream",
     "text": [
      "c:\\users\\ftn\\appdata\\local\\programs\\python\\python36\\lib\\site-packages\\sklearn\\externals\\six.py:31: FutureWarning: The module is deprecated in version 0.21 and will be removed in version 0.23 since we've dropped support for Python 2.7. Please rely on the official version of six (https://pypi.org/project/six/).\n",
      "  \"(https://pypi.org/project/six/).\", FutureWarning)\n"
     ]
    }
   ],
   "source": [
    "from sklearn.datasets import load_iris\n",
    "from sklearn import tree\n",
    "from sklearn import preprocessing\n",
    "from id3 import Id3Estimator\n",
    "from id3 import export_text\n",
    "import pandas as pd"
   ]
  },
  {
   "cell_type": "code",
   "execution_count": 2,
   "metadata": {},
   "outputs": [],
   "source": [
    "iris = load_iris()\n",
    "le1 = preprocessing.LabelEncoder()\n",
    "le2 = preprocessing.LabelEncoder()\n",
    "le3 = preprocessing.LabelEncoder()"
   ]
  },
  {
   "cell_type": "code",
   "execution_count": 3,
   "metadata": {},
   "outputs": [
    {
     "name": "stdout",
     "output_type": "stream",
     "text": [
      "|--- petal width (cm) <= 0.80\n",
      "|   |--- class: 0\n",
      "|--- petal width (cm) >  0.80\n",
      "|   |--- petal width (cm) <= 1.75\n",
      "|   |   |--- petal length (cm) <= 4.95\n",
      "|   |   |   |--- petal width (cm) <= 1.65\n",
      "|   |   |   |   |--- class: 1\n",
      "|   |   |   |--- petal width (cm) >  1.65\n",
      "|   |   |   |   |--- class: 2\n",
      "|   |   |--- petal length (cm) >  4.95\n",
      "|   |   |   |--- petal width (cm) <= 1.55\n",
      "|   |   |   |   |--- class: 2\n",
      "|   |   |   |--- petal width (cm) >  1.55\n",
      "|   |   |   |   |--- petal length (cm) <= 5.45\n",
      "|   |   |   |   |   |--- class: 1\n",
      "|   |   |   |   |--- petal length (cm) >  5.45\n",
      "|   |   |   |   |   |--- class: 2\n",
      "|   |--- petal width (cm) >  1.75\n",
      "|   |   |--- petal length (cm) <= 4.85\n",
      "|   |   |   |--- sepal width (cm) <= 3.10\n",
      "|   |   |   |   |--- class: 2\n",
      "|   |   |   |--- sepal width (cm) >  3.10\n",
      "|   |   |   |   |--- class: 1\n",
      "|   |   |--- petal length (cm) >  4.85\n",
      "|   |   |   |--- class: 2\n",
      "\n"
     ]
    }
   ],
   "source": [
    "decision_tree = tree.DecisionTreeClassifier()\n",
    "decision_tree = decision_tree.fit(iris.data, iris.target)\n",
    "r = tree.export_text(decision_tree, feature_names=iris['feature_names'])\n",
    "print(r)"
   ]
  },
  {
   "cell_type": "code",
   "execution_count": 4,
   "metadata": {},
   "outputs": [
    {
     "name": "stdout",
     "output_type": "stream",
     "text": [
      "\n",
      "petal length (cm) <=2.45: 0 (50) \n",
      "petal length (cm) >2.45\n",
      "|   petal width (cm) <=1.75\n",
      "|   |   sepal length (cm) <=7.10\n",
      "|   |   |   sepal width (cm) <=2.85: 1 (27/4) \n",
      "|   |   |   sepal width (cm) >2.85: 1 (22) \n",
      "|   |   sepal length (cm) >7.10: 2 (1) \n",
      "|   petal width (cm) >1.75\n",
      "|   |   sepal length (cm) <=5.95\n",
      "|   |   |   sepal width (cm) <=3.10: 2 (6) \n",
      "|   |   |   sepal width (cm) >3.10: 1 (1) \n",
      "|   |   sepal length (cm) >5.95: 2 (39) \n",
      "\n"
     ]
    }
   ],
   "source": [
    "estimator = Id3Estimator()\n",
    "estimator = estimator.fit(iris.data, iris.target)\n",
    "r2 = export_text(estimator.tree_, feature_names=iris['feature_names'])\n",
    "print(r2)"
   ]
  },
  {
   "cell_type": "code",
   "execution_count": 5,
   "metadata": {},
   "outputs": [
    {
     "name": "stdout",
     "output_type": "stream",
     "text": [
      "   humidity   outlook  temp    wind play\n",
      "0      High     Sunny   Hot    Weak   No\n",
      "1      High     Sunny   Hot  Strong   No\n",
      "2      High  Overcast   Hot    Weak  Yes\n",
      "3      High      Rain  Mild    Weak  Yes\n",
      "4    Normal      Rain  Cool    Weak  Yes\n",
      "5    Normal      Rain  Cool  Strong   No\n",
      "6    Normal  Overcast  Cool  Strong  Yes\n",
      "7      High     Sunny  Mild    Weak   No\n",
      "8    Normal     Sunny  Cool    Weak  Yes\n",
      "9    Normal      Rain  Mild    Weak  Yes\n",
      "10   Normal     Sunny  Mild  Strong  Yes\n",
      "11     High  Overcast  Mild  Strong  Yes\n",
      "12   Normal  Overcast   Hot    Weak  Yes\n",
      "13     High      Rain  Mild  Strong   No\n"
     ]
    }
   ],
   "source": [
    "data = pd.read_csv('play_tennis.csv')\n",
    "data = data.drop(\"day\", axis=1)\n",
    "print(data)"
   ]
  },
  {
   "cell_type": "code",
   "execution_count": 6,
   "metadata": {},
   "outputs": [
    {
     "name": "stdout",
     "output_type": "stream",
     "text": [
      "play\n",
      "['No' 'Yes']\n",
      "[0, 1]\n"
     ]
    }
   ],
   "source": [
    "target = data[\"play\"]\n",
    "le1.fit(target)\n",
    "targetnum = le1.transform(target)\n",
    "print(\"play\")\n",
    "print(le1.inverse_transform([0, 1]))\n",
    "print([0, 1])"
   ]
  },
  {
   "cell_type": "code",
   "execution_count": 7,
   "metadata": {},
   "outputs": [
    {
     "name": "stdout",
     "output_type": "stream",
     "text": [
      "humidity\n",
      "[0 0 0 0 1 1 1 0 1 1 1 0 1 0]\n",
      "['High' 'Normal']\n",
      "[0, 1]\n",
      "\n",
      "outlook\n",
      "[2 2 0 1 1 1 0 2 2 1 2 0 0 1]\n",
      "['Overcast' 'Rain' 'Sunny']\n",
      "[0, 1, 2]\n",
      "\n",
      "temp\n",
      "[1 1 1 2 0 0 0 2 0 2 2 2 1 2]\n",
      "['Cool' 'Hot' 'Mild']\n",
      "[0, 1, 2]\n",
      "\n",
      "wind\n",
      "[1 0 1 1 1 0 0 1 1 1 0 0 1 0]\n",
      "['Strong' 'Weak']\n",
      "[0, 1]\n",
      "\n"
     ]
    }
   ],
   "source": [
    "data = data.drop(\"play\", axis=1)\n",
    "datanum = [[], [], [], []]\n",
    "le2.fit(data.columns)\n",
    "for column in data.columns:\n",
    "    [index] = le2.transform([column])\n",
    "    le3.fit(data[column])\n",
    "    datanum[index] = le3.transform(data[column])\n",
    "    print(column)\n",
    "    print(datanum[index])\n",
    "    try:\n",
    "        print(le3.inverse_transform([0, 1, 2]))\n",
    "        print([0, 1, 2])\n",
    "    except:\n",
    "        print(le3.inverse_transform([0, 1]))\n",
    "        print([0, 1])\n",
    "    print()"
   ]
  },
  {
   "cell_type": "code",
   "execution_count": 8,
   "metadata": {},
   "outputs": [
    {
     "name": "stdout",
     "output_type": "stream",
     "text": [
      "transpose\n",
      "[[0, 2, 1, 1], [0, 2, 1, 0], [0, 0, 1, 1], [0, 1, 2, 1], [1, 1, 0, 1], [1, 1, 0, 0], [1, 0, 0, 0], [0, 2, 2, 1], [1, 2, 0, 1], [1, 1, 2, 1], [1, 2, 2, 0], [0, 0, 2, 0], [1, 0, 1, 1], [0, 1, 2, 0]]\n",
      "\n"
     ]
    }
   ],
   "source": [
    "newdatanum = []\n",
    "for i in range(14):\n",
    "    newdatanum.append([])\n",
    "for item in newdatanum:\n",
    "    for i in range(4):\n",
    "        item.append(-1)\n",
    "for i in range(len(datanum)):\n",
    "    for j in range(len(datanum[i])):\n",
    "        newdatanum[j][i] = datanum[i][j]\n",
    "print(\"transpose\")\n",
    "print(newdatanum)"
   ]
  },
  {
   "cell_type": "code",
   "execution_count": 11,
   "metadata": {},
   "outputs": [
    {
     "name": "stdout",
     "output_type": "stream",
     "text": [
      "|--- outlook <= 0.50\n",
      "|   |--- class: 1\n",
      "|--- outlook >  0.50\n",
      "|   |--- humidity <= 0.50\n",
      "|   |   |--- outlook <= 1.50\n",
      "|   |   |   |--- wind <= 0.50\n",
      "|   |   |   |   |--- class: 0\n",
      "|   |   |   |--- wind >  0.50\n",
      "|   |   |   |   |--- class: 1\n",
      "|   |   |--- outlook >  1.50\n",
      "|   |   |   |--- class: 0\n",
      "|   |--- humidity >  0.50\n",
      "|   |   |--- wind <= 0.50\n",
      "|   |   |   |--- outlook <= 1.50\n",
      "|   |   |   |   |--- class: 0\n",
      "|   |   |   |--- outlook >  1.50\n",
      "|   |   |   |   |--- class: 1\n",
      "|   |   |--- wind >  0.50\n",
      "|   |   |   |--- class: 1\n",
      "\n"
     ]
    }
   ],
   "source": [
    "decision_tree = tree.DecisionTreeClassifier()\n",
    "decision_tree = decision_tree.fit(newdatanum, targetnum)\n",
    "r = tree.export_text(decision_tree, feature_names=[\"humidity\", \"outlook\", \"temp\", \"wind\"])\n",
    "print(r)"
   ]
  },
  {
   "cell_type": "code",
   "execution_count": 10,
   "metadata": {},
   "outputs": [
    {
     "name": "stdout",
     "output_type": "stream",
     "text": [
      "\n",
      "outlook <=0.50: 1 (4) \n",
      "outlook >0.50\n",
      "|   humidity <=0.50\n",
      "|   |   temp <=1.50: 0 (2) \n",
      "|   |   temp >1.50\n",
      "|   |   |   wind <=0.50: 0 (1) \n",
      "|   |   |   wind >0.50: 0 (1/1) \n",
      "|   humidity >0.50\n",
      "|   |   wind <=0.50\n",
      "|   |   |   temp <=1.00: 0 (1) \n",
      "|   |   |   temp >1.00: 1 (1) \n",
      "|   |   wind >0.50: 1 (3) \n",
      "\n"
     ]
    }
   ],
   "source": [
    "estimator = Id3Estimator()\n",
    "estimator = estimator.fit(newdatanum, targetnum)\n",
    "r2 = export_text(estimator.tree_, feature_names=[\"humidity\", \"outlook\", \"temp\", \"wind\"])\n",
    "print(r2)"
   ]
  }
 ],
 "metadata": {
  "kernelspec": {
   "display_name": "Python 3",
   "language": "python",
   "name": "python3"
  },
  "language_info": {
   "codemirror_mode": {
    "name": "ipython",
    "version": 3
   },
   "file_extension": ".py",
   "mimetype": "text/x-python",
   "name": "python",
   "nbconvert_exporter": "python",
   "pygments_lexer": "ipython3",
   "version": "3.6.8"
  }
 },
 "nbformat": 4,
 "nbformat_minor": 2
}
