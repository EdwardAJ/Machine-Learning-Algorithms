{
 "cells": [
  {
   "cell_type": "code",
   "execution_count": 1,
   "metadata": {},
   "outputs": [
    {
     "name": "stderr",
     "output_type": "stream",
     "text": [
      "/usr/local/lib/python3.7/site-packages/sklearn/externals/six.py:31: FutureWarning: The module is deprecated in version 0.21 and will be removed in version 0.23 since we've dropped support for Python 2.7. Please rely on the official version of six (https://pypi.org/project/six/).\n",
      "  \"(https://pypi.org/project/six/).\", FutureWarning)\n"
     ]
    }
   ],
   "source": [
    "# Import all dependencies\n",
    "\n",
    "from id3 import Id3Estimator\n",
    "from id3 import export_text\n",
    "\n",
    "from sklearn.preprocessing import LabelEncoder\n",
    "from sklearn.datasets import load_iris\n",
    "from sklearn import tree\n",
    "\n",
    "import pandas as pd\n",
    "import numpy as np"
   ]
  },
  {
   "cell_type": "markdown",
   "metadata": {},
   "source": [
    "<h2> Pembelajaran dataset Iris </h2>"
   ]
  },
  {
   "cell_type": "code",
   "execution_count": 2,
   "metadata": {},
   "outputs": [],
   "source": [
    "# Load iris\n",
    "iris = load_iris()"
   ]
  },
  {
   "cell_type": "markdown",
   "metadata": {},
   "source": [
    "**Decision Tree Model for iris:**"
   ]
  },
  {
   "cell_type": "code",
   "execution_count": 3,
   "metadata": {},
   "outputs": [
    {
     "name": "stdout",
     "output_type": "stream",
     "text": [
      "|--- petal length (cm) <= 2.45\n",
      "|   |--- class: 0\n",
      "|--- petal length (cm) >  2.45\n",
      "|   |--- petal width (cm) <= 1.75\n",
      "|   |   |--- petal length (cm) <= 4.95\n",
      "|   |   |   |--- petal width (cm) <= 1.65\n",
      "|   |   |   |   |--- class: 1\n",
      "|   |   |   |--- petal width (cm) >  1.65\n",
      "|   |   |   |   |--- class: 2\n",
      "|   |   |--- petal length (cm) >  4.95\n",
      "|   |   |   |--- petal width (cm) <= 1.55\n",
      "|   |   |   |   |--- class: 2\n",
      "|   |   |   |--- petal width (cm) >  1.55\n",
      "|   |   |   |   |--- petal length (cm) <= 5.45\n",
      "|   |   |   |   |   |--- class: 1\n",
      "|   |   |   |   |--- petal length (cm) >  5.45\n",
      "|   |   |   |   |   |--- class: 2\n",
      "|   |--- petal width (cm) >  1.75\n",
      "|   |   |--- petal length (cm) <= 4.85\n",
      "|   |   |   |--- sepal length (cm) <= 5.95\n",
      "|   |   |   |   |--- class: 1\n",
      "|   |   |   |--- sepal length (cm) >  5.95\n",
      "|   |   |   |   |--- class: 2\n",
      "|   |   |--- petal length (cm) >  4.85\n",
      "|   |   |   |--- class: 2\n",
      "\n"
     ]
    }
   ],
   "source": [
    "decision_tree = tree.DecisionTreeClassifier()\n",
    "decision_tree = decision_tree.fit(iris.data, iris.target)\n",
    "DecisionTreeModel = tree.export_text(decision_tree, feature_names=iris['feature_names'])\n",
    "print(DecisionTreeModel)"
   ]
  },
  {
   "cell_type": "markdown",
   "metadata": {},
   "source": [
    "**ID3 Model for iris:**"
   ]
  },
  {
   "cell_type": "code",
   "execution_count": 4,
   "metadata": {},
   "outputs": [
    {
     "name": "stdout",
     "output_type": "stream",
     "text": [
      "\n",
      "petal length (cm) <=2.45: 0 (50) \n",
      "petal length (cm) >2.45\n",
      "|   petal width (cm) <=1.75\n",
      "|   |   sepal length (cm) <=7.10\n",
      "|   |   |   sepal width (cm) <=2.85: 1 (27/4) \n",
      "|   |   |   sepal width (cm) >2.85: 1 (22) \n",
      "|   |   sepal length (cm) >7.10: 2 (1) \n",
      "|   petal width (cm) >1.75\n",
      "|   |   sepal length (cm) <=5.95\n",
      "|   |   |   sepal width (cm) <=3.10: 2 (6) \n",
      "|   |   |   sepal width (cm) >3.10: 1 (1) \n",
      "|   |   sepal length (cm) >5.95: 2 (39) \n",
      "\n"
     ]
    }
   ],
   "source": [
    "estimator = Id3Estimator()\n",
    "estimator = estimator.fit(iris.data, iris.target)\n",
    "\n",
    "ID3Model = export_text(estimator.tree_, feature_names=iris['feature_names'])\n",
    "print(ID3Model)"
   ]
  },
  {
   "cell_type": "markdown",
   "metadata": {},
   "source": [
    "<h2> Pembelajaran dataset play-tennis </h2>"
   ]
  },
  {
   "cell_type": "code",
   "execution_count": 5,
   "metadata": {},
   "outputs": [],
   "source": [
    "# Read play-tennis dataset\n",
    "df = pd.read_csv('datasets/play_tennis.csv')\n",
    "\n",
    "# Then drop df['day']\n",
    "df = df.drop('day', axis=1)"
   ]
  },
  {
   "cell_type": "code",
   "execution_count": 6,
   "metadata": {},
   "outputs": [
    {
     "name": "stdout",
     "output_type": "stream",
     "text": [
      "Target values: \n",
      "0      No\n",
      "1      No\n",
      "2     Yes\n",
      "3     Yes\n",
      "4     Yes\n",
      "5      No\n",
      "6     Yes\n",
      "7      No\n",
      "8     Yes\n",
      "9     Yes\n",
      "10    Yes\n",
      "11    Yes\n",
      "12    Yes\n",
      "13     No\n",
      "Name: play, dtype: object\n"
     ]
    }
   ],
   "source": [
    "# Define target variable, which is the variable of classes\n",
    "target = df['play']\n",
    "\n",
    "print(\"Target values: \")\n",
    "print(target)\n",
    "\n",
    "# Drop play attribute\n",
    "df = df.drop('play', axis=1)"
   ]
  },
  {
   "cell_type": "code",
   "execution_count": 7,
   "metadata": {},
   "outputs": [],
   "source": [
    "# Variable to store encoded values\n",
    "df_encoded = df\n",
    "\n",
    "# Use label encoder to encode data\n",
    "LE = LabelEncoder()\n",
    "\n",
    "# Feature names for tree generation purposes\n",
    "feature_names_var = [\"outlook\", \"temp\", \"humidity\", \"wind\"]"
   ]
  },
  {
   "cell_type": "code",
   "execution_count": 8,
   "metadata": {},
   "outputs": [],
   "source": [
    "# Store as a map: key -> encoded value, value -> real value\n",
    "dictOfValues = {}\n",
    "\n",
    "for key in feature_names_var:\n",
    "    # Encode the data\n",
    "    df_encoded[key] = LE.fit_transform(df[key])\n",
    "    \n",
    "    # Map encoded values with real values:\n",
    "    dictOfValues[key] = {}\n",
    "    \n",
    "    for index in range(len(df_encoded[key])):\n",
    "        encoded_value = df_encoded[key][index]\n",
    "        real_value = LE.inverse_transform(df[key])[index]\n",
    "        dictOfValues[key][encoded_value] = real_value\n",
    "\n",
    "for key in feature_names_var:\n",
    "    # Sort\n",
    "    dictOfValues[key] = sorted(dictOfValues[key].items(), key=lambda x: x[0])"
   ]
  },
  {
   "cell_type": "code",
   "execution_count": 9,
   "metadata": {},
   "outputs": [],
   "source": [
    "# Transpose the encoded data\n",
    "transposed_df_encoded = df_encoded.transpose()\n",
    "\n",
    "# Define data variable\n",
    "data = []\n",
    "for index in range (0, 14):\n",
    "    data.append(transposed_df_encoded[index])"
   ]
  },
  {
   "cell_type": "markdown",
   "metadata": {},
   "source": [
    "<h3> Hasil pembelajaran: </h3>"
   ]
  },
  {
   "cell_type": "markdown",
   "metadata": {},
   "source": [
    "**Decision Tree Model for play-tennis:**"
   ]
  },
  {
   "cell_type": "code",
   "execution_count": 10,
   "metadata": {},
   "outputs": [
    {
     "name": "stdout",
     "output_type": "stream",
     "text": [
      "Tree:\n",
      "|--- outlook <= 0.50\n",
      "|   |--- class: Yes\n",
      "|--- outlook >  0.50\n",
      "|   |--- humidity <= 0.50\n",
      "|   |   |--- outlook <= 1.50\n",
      "|   |   |   |--- wind <= 0.50\n",
      "|   |   |   |   |--- class: No\n",
      "|   |   |   |--- wind >  0.50\n",
      "|   |   |   |   |--- class: Yes\n",
      "|   |   |--- outlook >  1.50\n",
      "|   |   |   |--- class: No\n",
      "|   |--- humidity >  0.50\n",
      "|   |   |--- wind <= 0.50\n",
      "|   |   |   |--- temp <= 1.00\n",
      "|   |   |   |   |--- class: No\n",
      "|   |   |   |--- temp >  1.00\n",
      "|   |   |   |   |--- class: Yes\n",
      "|   |   |--- wind >  0.50\n",
      "|   |   |   |--- class: Yes\n",
      "\n"
     ]
    }
   ],
   "source": [
    "decision_tree = tree.DecisionTreeClassifier()\n",
    "decision_tree = decision_tree.fit(data, target)\n",
    "DecisionTreeModel = tree.export_text(decision_tree, feature_names=feature_names_var)\n",
    "\n",
    "print(\"Tree:\")\n",
    "print(DecisionTreeModel)"
   ]
  },
  {
   "cell_type": "markdown",
   "metadata": {},
   "source": [
    "**Outlook:**\n",
    "- outlook <= 0.50, artinya outlook = Overcast\n",
    "- outlook <= 1.50, artinya outlook = Rain\n",
    "- selain itu, artinya outlook = Sunny\n",
    "\n",
    "<br> **Temp:**\n",
    "- temp <= 0.50, artinya temp = Cool\n",
    "- temp <= 1.50 atau <= 1.00, artinya temp = Hot\n",
    "- selain itu, artinya temp = Mild\n",
    "\n",
    "<br> **Wind**\n",
    "- wind <= 0.50, artinya wind = Weak\n",
    "- selain itu, artinya wind = Strong\n",
    "\n",
    "<br> **Humidity**\n",
    "- humidity <= 0.50, artinya humidity = High\n",
    "- selain itu, artinya humidity = High"
   ]
  },
  {
   "cell_type": "markdown",
   "metadata": {},
   "source": [
    "**ID3 Model for play-tennis:**"
   ]
  },
  {
   "cell_type": "code",
   "execution_count": 11,
   "metadata": {},
   "outputs": [
    {
     "name": "stdout",
     "output_type": "stream",
     "text": [
      "Tree:\n",
      "\n",
      "outlook <=0.50: Yes (4) \n",
      "outlook >0.50\n",
      "|   humidity <=0.50\n",
      "|   |   temp <=1.50: No (2) \n",
      "|   |   temp >1.50\n",
      "|   |   |   wind <=0.50: No (1) \n",
      "|   |   |   wind >0.50: No (1/1) \n",
      "|   humidity >0.50\n",
      "|   |   wind <=0.50\n",
      "|   |   |   temp <=1.00: No (1) \n",
      "|   |   |   temp >1.00: Yes (1) \n",
      "|   |   wind >0.50: Yes (3) \n",
      "\n"
     ]
    }
   ],
   "source": [
    "estimator = Id3Estimator()\n",
    "fitEstimator = estimator.fit(data, target)\n",
    "\n",
    "ID3Model = export_text(fitEstimator.tree_, feature_names=feature_names_var)\n",
    "\n",
    "print(\"Tree:\")\n",
    "print(ID3Model)"
   ]
  },
  {
   "cell_type": "markdown",
   "metadata": {},
   "source": [
    "**Outlook:**\n",
    "- outlook <= 0.50, artinya outlook = Overcast\n",
    "- outlook <= 1.50, artinya outlook = Rain\n",
    "- selain itu, artinya outlook = Sunny\n",
    "\n",
    "<br> **Temp:**\n",
    "- temp <= 0.50, artinya temp = Cool\n",
    "- temp <= 1.50 atau <= 1.00, artinya temp = Hot\n",
    "- selain itu, artinya temp = Mild\n",
    "\n",
    "<br> **Wind**\n",
    "- wind <= 0.50, artinya wind = Weak\n",
    "- selain itu, artinya wind = Strong\n",
    "\n",
    "<br> **Humidity**\n",
    "- humidity <= 0.50, artinya humidity = High\n",
    "- selain itu, artinya humidity = High"
   ]
  },
  {
   "cell_type": "markdown",
   "metadata": {},
   "source": [
    "**Berikut adalah arti setiap kode angka pada setiap atribut:**"
   ]
  },
  {
   "cell_type": "code",
   "execution_count": 12,
   "metadata": {},
   "outputs": [
    {
     "name": "stdout",
     "output_type": "stream",
     "text": [
      "[('humidity', [(0, 'High'), (1, 'Normal')]), ('outlook', [(0, 'Overcast'), (1, 'Rain'), (2, 'Sunny')]), ('temp', [(0, 'Cool'), (1, 'Hot'), (2, 'Mild')]), ('wind', [(0, 'Strong'), (1, 'Weak')])]\n"
     ]
    }
   ],
   "source": [
    "print(sorted(dictOfValues.items(), key=lambda x: x[0]))"
   ]
  }
 ],
 "metadata": {
  "kernelspec": {
   "display_name": "Python 3",
   "language": "python",
   "name": "python3"
  },
  "language_info": {
   "codemirror_mode": {
    "name": "ipython",
    "version": 3
   },
   "file_extension": ".py",
   "mimetype": "text/x-python",
   "name": "python",
   "nbconvert_exporter": "python",
   "pygments_lexer": "ipython3",
   "version": "3.7.6"
  }
 },
 "nbformat": 4,
 "nbformat_minor": 4
}
