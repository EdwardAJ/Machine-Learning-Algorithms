{
 "cells": [
  {
   "cell_type": "markdown",
   "metadata": {},
   "source": [
    "<h1> Tugas Besar Bagian B </h1>\n",
    "\n",
    "Oleh:\n",
    "- Ignatius Timothy Manullang / 13517044\n",
    "- Fatur Rahman / 13517056\n",
    "- Fata Nugraha / 13517109\n",
    "- Edward Alexander Jaya / 13517115\n",
    "\n"
   ]
  },
  {
   "cell_type": "code",
   "execution_count": 54,
   "metadata": {},
   "outputs": [],
   "source": [
    "import pandas as pd\n",
    "import numpy as np\n",
    "\n",
    "from myid3 import *"
   ]
  },
  {
   "cell_type": "markdown",
   "metadata": {},
   "source": [
    "<h2> Pembelajaran dataset play-tennis </h2>"
   ]
  },
  {
   "cell_type": "code",
   "execution_count": 55,
   "metadata": {},
   "outputs": [],
   "source": [
    "# Read play-tennis dataset\n",
    "df = pd.read_csv('datasets/play_tennis.csv')\n",
    "\n",
    "# Then drop df['day']\n",
    "df = df.drop('day', axis=1)"
   ]
  },
  {
   "cell_type": "code",
   "execution_count": 56,
   "metadata": {},
   "outputs": [
    {
     "name": "stdout",
     "output_type": "stream",
     "text": [
      "     outlook  temp humidity    wind play\n",
      "0      Sunny   Hot     High    Weak   No\n",
      "1      Sunny   Hot     High  Strong   No\n",
      "2   Overcast   Hot     High    Weak  Yes\n",
      "3       Rain  Mild     High    Weak  Yes\n",
      "4       Rain  Cool   Normal    Weak  Yes\n",
      "5       Rain  Cool   Normal  Strong   No\n",
      "6   Overcast  Cool   Normal  Strong  Yes\n",
      "7      Sunny  Mild     High    Weak   No\n",
      "8      Sunny  Cool   Normal    Weak  Yes\n",
      "9       Rain  Mild   Normal    Weak  Yes\n",
      "10     Sunny  Mild   Normal  Strong  Yes\n",
      "11  Overcast  Mild     High  Strong  Yes\n",
      "12  Overcast   Hot   Normal    Weak  Yes\n",
      "13      Rain  Mild     High  Strong   No\n"
     ]
    }
   ],
   "source": [
    "print(df)"
   ]
  },
  {
   "cell_type": "code",
   "execution_count": 57,
   "metadata": {},
   "outputs": [],
   "source": [
    "# Feature names for tree generation purposes\n",
    "attributes = [\"outlook\", \"temp\", \"humidity\", \"wind\"]"
   ]
  },
  {
   "cell_type": "code",
   "execution_count": 58,
   "metadata": {},
   "outputs": [
    {
     "name": "stdout",
     "output_type": "stream",
     "text": [
      "     outlook  temp humidity  wind play\n",
      "0      Sunny   Hot     High  Weak   No\n",
      "2   Overcast   Hot     High  Weak  Yes\n",
      "3       Rain  Mild     High  Weak  Yes\n",
      "4       Rain  Cool   Normal  Weak  Yes\n",
      "7      Sunny  Mild     High  Weak   No\n",
      "8      Sunny  Cool   Normal  Weak  Yes\n",
      "9       Rain  Mild   Normal  Weak  Yes\n",
      "12  Overcast   Hot   Normal  Weak  Yes\n",
      "['outlook', 'temp', 'humidity', 'wind']\n",
      "['temp', 'humidity', 'wind']\n"
     ]
    }
   ],
   "source": [
    "filterParam = df[\"wind\"] == \"Weak\"\n",
    "filteredExamples = df[filterParam]\n",
    "print(filteredExamples)\n",
    "\n",
    "uniqueValues = filteredExamples['play'].value_counts(normalize=True)\n",
    "print(attributes)\n",
    "attr = (attributes.remove(\"outlook\"))\n",
    "print(attributes)"
   ]
  },
  {
   "cell_type": "code",
   "execution_count": null,
   "metadata": {},
   "outputs": [],
   "source": []
  },
  {
   "cell_type": "code",
   "execution_count": 59,
   "metadata": {},
   "outputs": [],
   "source": [
    "def myid3(examples, target_attribute, attributes):\n",
    "    # If all examples are in one class:\n",
    "    if (examples[target_attribute].all()):\n",
    "        return Tree(examples[target_attribute][0], None, None)\n",
    "\n",
    "    if (len(attributes) == 0):\n",
    "        # Check for most values\n",
    "        data = examples[target_attribute].value_counts().idxmax()\n",
    "        return Tree(data, None, None)\n",
    "        \n",
    "    # Use information gain to get best attr:\n",
    "    chosenAttribute = getBestAttribute(examples, target_attribute, attributes)\n",
    "\n",
    "    # Get unique values in the attribute\n",
    "    uniqueValues = examples[chosenAttribute].unique()\n",
    "\n",
    "    # Children of the tree\n",
    "    nodes = []\n",
    "    branchNames = []\n",
    "\n",
    "    for value in uniqueValues:\n",
    "        # Filter the example\n",
    "        filterParam = examples[chosenAttribute] == value\n",
    "        filteredExamples = examples[filterParam]\n",
    "\n",
    "        # If examples empty\n",
    "        if (filteredExamples.empty):\n",
    "            # Assign with most common value...\n",
    "            data = examples[target_attribute].value_counts().idxmax()\n",
    "            return Tree(data, None, None)\n",
    "        else:\n",
    "            # Recursion\n",
    "            node = myid3(filteredExamples, target_attribute, attributes.remove(attr))\n",
    "            nodes.append(node)\n",
    "            branchNames.append(value)\n",
    "\n",
    "    # Create tree\n",
    "    return Tree(chosenAttribute, nodes, branchNames)\n",
    "\n",
    "def getBestAttribute(examples, target_attribute, attributes):\n",
    "    # Find the entropy of examples\n",
    "    classEntropy = getEntropy(examples, target_attribute)\n",
    "\n",
    "    # Assign initial value\n",
    "    returnAttr = attributes[0]\n",
    "    maxInformationGain = getInformationGain(examples, target_attribute, returnAttr, classEntropy)\n",
    "\n",
    "    # For each attributes, check the information gain and find the maximum.\n",
    "    for index in range(1, len(attributes)):\n",
    "        informationGain = getInformationGain(examples, target_attribute, attributes[index], classEntropy)\n",
    "        if (informationGain > maxInformationGain):\n",
    "            maxInformationGain = informationGain\n",
    "            returnAttr = attributes[index]\n",
    "\n",
    "    # Return the best attribute\n",
    "    return returnAttr\n",
    "\n",
    "def getInformationGain(examples, target_attribute, attribute, classEntropy):\n",
    "    classFreqRatio = examples[attribute].value_counts(normalize=True)\n",
    "    # For each frequency of the class, find the gain:\n",
    "    gain = 0\n",
    "\n",
    "    for index in range (0, len(classFreqRatio)):\n",
    "        value = classFreqRatio.keys()[index]\n",
    "        gain += classFreqRatio[index] * getAttributeEntropy(examples, target_attribute, attr, value)\n",
    "    \n",
    "    gain = classEntropy - gain\n",
    "    return gain\n",
    "\n",
    "def getAttributeEntropy(examples, target_attribute, attribute, value):\n",
    "    # Filter examples that only has the value of the attribute\n",
    "    filterParam = examples[attribute] == value\n",
    "    filteredExamples = examples[filterParam]\n",
    "\n",
    "    return getEntropy(filteredExamples, target_attribute)\n",
    "\n",
    "def getEntropy(examples, target_attribute):\n",
    "    # Find class frequency\n",
    "    classFreqRatio = examples[target_attribute].value_counts(normalize=True)\n",
    "\n",
    "    entropy = 0\n",
    "    for freqRatio in classFreqRatio:\n",
    "        entropy += -1 * freqRatio * math.log2(freqRatio)\n",
    "\n",
    "    return entropy\n",
    "    "
   ]
  }
 ],
 "metadata": {
  "kernelspec": {
   "display_name": "Python 3",
   "language": "python",
   "name": "python3"
  },
  "language_info": {
   "codemirror_mode": {
    "name": "ipython",
    "version": 3
   },
   "file_extension": ".py",
   "mimetype": "text/x-python",
   "name": "python",
   "nbconvert_exporter": "python",
   "pygments_lexer": "ipython3",
   "version": "3.7.6"
  }
 },
 "nbformat": 4,
 "nbformat_minor": 4
}
